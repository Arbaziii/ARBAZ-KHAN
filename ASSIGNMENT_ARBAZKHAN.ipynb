{
 "cells": [
  {
   "cell_type": "code",
   "execution_count": 12,
   "metadata": {
    "execution": {
     "iopub.execute_input": "2024-02-16T23:17:12.883059Z",
     "iopub.status.busy": "2024-02-16T23:17:12.881918Z",
     "iopub.status.idle": "2024-02-16T23:17:14.884470Z",
     "shell.execute_reply": "2024-02-16T23:17:14.883576Z"
    },
    "papermill": {
     "duration": 2.013214,
     "end_time": "2024-02-16T23:17:14.887095",
     "exception": false,
     "start_time": "2024-02-16T23:17:12.873881",
     "status": "completed"
    },
    "tags": []
   },
   "outputs": [],
   "source": [
    "# Import necessary libraries\n",
    "import pandas as pd\n",
    "import numpy as np\n",
    "import matplotlib.pyplot as plt\n",
    "import seaborn as sns\n",
    "import matplotlib.ticker as ticker\n",
    "\n",
    "# Read dataset with proper encoding\n",
    "df = pd.read_csv(\"dataset.csv\", encoding='latin1')\n"
   ]
  },
  {
   "cell_type": "code",
   "execution_count": 13,
   "metadata": {
    "execution": {
     "iopub.execute_input": "2024-02-16T23:17:14.969602Z",
     "iopub.status.busy": "2024-02-16T23:17:14.969163Z",
     "iopub.status.idle": "2024-02-16T23:17:14.997798Z",
     "shell.execute_reply": "2024-02-16T23:17:14.996429Z"
    },
    "papermill": {
     "duration": 0.03965,
     "end_time": "2024-02-16T23:17:15.000872",
     "exception": false,
     "start_time": "2024-02-16T23:17:14.961222",
     "status": "completed"
    },
    "tags": []
   },
   "outputs": [
    {
     "data": {
      "text/html": [
       "<div>\n",
       "<style scoped>\n",
       "    .dataframe tbody tr th:only-of-type {\n",
       "        vertical-align: middle;\n",
       "    }\n",
       "\n",
       "    .dataframe tbody tr th {\n",
       "        vertical-align: top;\n",
       "    }\n",
       "\n",
       "    .dataframe thead th {\n",
       "        text-align: right;\n",
       "    }\n",
       "</style>\n",
       "<table border=\"1\" class=\"dataframe\">\n",
       "  <thead>\n",
       "    <tr style=\"text-align: right;\">\n",
       "      <th></th>\n",
       "      <th>week</th>\n",
       "      <th>category</th>\n",
       "      <th>weekly_rank</th>\n",
       "      <th>show_title</th>\n",
       "      <th>season_title</th>\n",
       "      <th>weekly_hours_viewed</th>\n",
       "      <th>runtime</th>\n",
       "      <th>weekly_views</th>\n",
       "      <th>cumulative_weeks_in_top_10</th>\n",
       "      <th>is_staggered_launch</th>\n",
       "      <th>episode_launch_details</th>\n",
       "    </tr>\n",
       "  </thead>\n",
       "  <tbody>\n",
       "    <tr>\n",
       "      <th>0</th>\n",
       "      <td>2024-01-07</td>\n",
       "      <td>Films (English)</td>\n",
       "      <td>1</td>\n",
       "      <td>The Equalizer 3</td>\n",
       "      <td>NaN</td>\n",
       "      <td>26800000</td>\n",
       "      <td>1.8167</td>\n",
       "      <td>14800000.0</td>\n",
       "      <td>1</td>\n",
       "      <td>False</td>\n",
       "      <td>NaN</td>\n",
       "    </tr>\n",
       "    <tr>\n",
       "      <th>1</th>\n",
       "      <td>2024-01-07</td>\n",
       "      <td>Films (English)</td>\n",
       "      <td>2</td>\n",
       "      <td>Rebel Moon ? Part One: A Child of Fire</td>\n",
       "      <td>NaN</td>\n",
       "      <td>25100000</td>\n",
       "      <td>2.2667</td>\n",
       "      <td>11100000.0</td>\n",
       "      <td>3</td>\n",
       "      <td>False</td>\n",
       "      <td>NaN</td>\n",
       "    </tr>\n",
       "    <tr>\n",
       "      <th>2</th>\n",
       "      <td>2024-01-07</td>\n",
       "      <td>Films (English)</td>\n",
       "      <td>3</td>\n",
       "      <td>Leave the World Behind</td>\n",
       "      <td>NaN</td>\n",
       "      <td>18700000</td>\n",
       "      <td>2.3667</td>\n",
       "      <td>7900000.0</td>\n",
       "      <td>5</td>\n",
       "      <td>False</td>\n",
       "      <td>NaN</td>\n",
       "    </tr>\n",
       "    <tr>\n",
       "      <th>3</th>\n",
       "      <td>2024-01-07</td>\n",
       "      <td>Films (English)</td>\n",
       "      <td>4</td>\n",
       "      <td>Exodus: Gods and Kings</td>\n",
       "      <td>NaN</td>\n",
       "      <td>18600000</td>\n",
       "      <td>2.5000</td>\n",
       "      <td>7400000.0</td>\n",
       "      <td>1</td>\n",
       "      <td>False</td>\n",
       "      <td>NaN</td>\n",
       "    </tr>\n",
       "    <tr>\n",
       "      <th>4</th>\n",
       "      <td>2024-01-07</td>\n",
       "      <td>Films (English)</td>\n",
       "      <td>5</td>\n",
       "      <td>Aquaman</td>\n",
       "      <td>NaN</td>\n",
       "      <td>16800000</td>\n",
       "      <td>2.3833</td>\n",
       "      <td>7000000.0</td>\n",
       "      <td>1</td>\n",
       "      <td>False</td>\n",
       "      <td>NaN</td>\n",
       "    </tr>\n",
       "  </tbody>\n",
       "</table>\n",
       "</div>"
      ],
      "text/plain": [
       "         week         category  weekly_rank  \\\n",
       "0  2024-01-07  Films (English)            1   \n",
       "1  2024-01-07  Films (English)            2   \n",
       "2  2024-01-07  Films (English)            3   \n",
       "3  2024-01-07  Films (English)            4   \n",
       "4  2024-01-07  Films (English)            5   \n",
       "\n",
       "                               show_title season_title  weekly_hours_viewed  \\\n",
       "0                         The Equalizer 3          NaN             26800000   \n",
       "1  Rebel Moon ? Part One: A Child of Fire          NaN             25100000   \n",
       "2                  Leave the World Behind          NaN             18700000   \n",
       "3                  Exodus: Gods and Kings          NaN             18600000   \n",
       "4                                 Aquaman          NaN             16800000   \n",
       "\n",
       "   runtime  weekly_views  cumulative_weeks_in_top_10  is_staggered_launch  \\\n",
       "0   1.8167    14800000.0                           1                False   \n",
       "1   2.2667    11100000.0                           3                False   \n",
       "2   2.3667     7900000.0                           5                False   \n",
       "3   2.5000     7400000.0                           1                False   \n",
       "4   2.3833     7000000.0                           1                False   \n",
       "\n",
       "  episode_launch_details  \n",
       "0                    NaN  \n",
       "1                    NaN  \n",
       "2                    NaN  \n",
       "3                    NaN  \n",
       "4                    NaN  "
      ]
     },
     "execution_count": 13,
     "metadata": {},
     "output_type": "execute_result"
    }
   ],
   "source": [
    "df.head()"
   ]
  },
  {
   "cell_type": "code",
   "execution_count": 6,
   "metadata": {
    "execution": {
     "iopub.execute_input": "2024-02-16T23:17:15.032926Z",
     "iopub.status.busy": "2024-02-16T23:17:15.031380Z",
     "iopub.status.idle": "2024-02-16T23:17:15.240754Z",
     "shell.execute_reply": "2024-02-16T23:17:15.239579Z"
    },
    "papermill": {
     "duration": 0.220422,
     "end_time": "2024-02-16T23:17:15.243372",
     "exception": false,
     "start_time": "2024-02-16T23:17:15.022950",
     "status": "completed"
    },
    "tags": []
   },
   "outputs": [
    {
     "name": "stdout",
     "output_type": "stream",
     "text": [
      "Number of Films (English) are :1320\n",
      "Number of Films (Non-English) are :1320\n",
      "Number of TV (Non-English) are :1320\n",
      "Number of TV (English) are :1320\n"
     ]
    }
   ],
   "source": [
    "# Count the occurrences of unique values in the second column of the DataFrame\n",
    "value_counts = df.iloc[:, 1].value_counts()\n",
    "\n",
    "for value, count in value_counts.items():\n",
    "    print(f\"Number of {value} are: {count}\")\n",
    "\n",
    "    "
   ]
  },
  {
   "cell_type": "code",
   "execution_count": 7,
   "metadata": {
    "execution": {
     "iopub.execute_input": "2024-02-16T23:17:15.260441Z",
     "iopub.status.busy": "2024-02-16T23:17:15.260048Z",
     "iopub.status.idle": "2024-02-16T23:17:15.268676Z",
     "shell.execute_reply": "2024-02-16T23:17:15.267540Z"
    },
    "papermill": {
     "duration": 0.020672,
     "end_time": "2024-02-16T23:17:15.271617",
     "exception": false,
     "start_time": "2024-02-16T23:17:15.250945",
     "status": "completed"
    },
    "tags": []
   },
   "outputs": [
    {
     "data": {
      "image/png": "[encoded data removed]",
      "text/plain": [
       "<Figure size 432x288 with 1 Axes>"
      ]
     },
     "metadata": {},
     "output_type": "display_data"
    }
   ],
   "source": [
    "catgory = df.iloc[:, 1].unique()\n",
    "catgorycount = df.iloc[:, 1].value_counts()\n",
    "labels = catgory\n",
    "sizes = [catgorycount[category] for category in catgory]\n",
    "# Create a pie chart to visualize the distribution of categories\n",
    "plt.pie(sizes, labels=labels, autopct='%1.1f%%')\n",
    "plt.title('Distribution of Categories')\n",
    "plt.show()"
   ]
  },
  {
   "cell_type": "code",
   "execution_count": 8,
   "metadata": {
    "execution": {
     "iopub.execute_input": "2024-02-16T23:17:15.305362Z",
     "iopub.status.busy": "2024-02-16T23:17:15.304655Z",
     "iopub.status.idle": "2024-02-16T23:17:15.321985Z",
     "shell.execute_reply": "2024-02-16T23:17:15.320793Z"
    },
    "papermill": {
     "duration": 0.029363,
     "end_time": "2024-02-16T23:17:15.324934",
     "exception": false,
     "start_time": "2024-02-16T23:17:15.295571",
     "status": "completed"
    },
    "tags": []
   },
   "outputs": [
    {
     "name": "stdout",
     "output_type": "stream",
     "text": [
      "Top viewed shows are: \n",
      "           show_title  weekly_hours_viewed\n",
      "4750       Squid Game            571760000\n",
      "4790       Squid Game            448730000\n",
      "4710       Squid Game            412940000\n",
      "2300        Wednesday            411290000\n",
      "2340        Wednesday            341230000\n",
      "3340  Stranger Things            335010000\n",
      "3180  Stranger Things            301280000\n",
      "2660           DAHMER            299840000\n",
      "3380  Stranger Things            286790000\n",
      "2260        Wednesday            269670000\n",
      "\n",
      "\n",
      "Top viewed shows aftre combining are :\n",
      "\n",
      "\n",
      "                   show_title  weekly_hours_viewed\n",
      "1227          Stranger Things           2967980000\n",
      "1220               Squid Game           2315500000\n",
      "1658                Wednesday           1806850000\n",
      "848                  Manifest           1320520000\n",
      "1706                      You           1245390000\n",
      "895               Money Heist           1185400000\n",
      "1519              The Witcher           1117900000\n",
      "215                Bridgerton           1040310000\n",
      "998               Outer Banks            964410000\n",
      "319                    DAHMER            962470000\n",
      "1643             Virgin River            912210000\n",
      "1144            Sex Education            901760000\n",
      "235   Caf? con aroma de mujer            813480000\n",
      "520           Ginny & Georgia            788880000\n",
      "800             Love Is Blind            779300000\n",
      "1426          The Night Agent            776620000\n",
      "1003                    Ozark            751600000\n",
      "417            Emily in Paris            684200000\n",
      "1317                The Crown            677260000\n",
      "838                      Maid            669470000\n"
     ]
    }
   ],
   "source": [
    "# Extract the top viewed shows based on weekly hours viewed\n",
    "top_viewed = df[['show_title', 'weekly_hours_viewed']].sort_values(by='weekly_hours_viewed', ascending=False).head(10)\n",
    "print('Top viewed shows are:')\n",
    "print(top_viewed)\n",
    "\n",
    "# Group the data by 'show_title' and sum the weekly hours viewed for each show\n",
    "combined_hours = df.groupby('show_title')['weekly_hours_viewed'].sum().reset_index()\n",
    "\n",
    "# Extract the top viewed shows after combining weekly hours viewed\n",
    "top_viewed = combined_hours.sort_values(by='weekly_hours_viewed', ascending=False).head(20)\n",
    "print('\\nTop viewed shows after combining are:\\n')\n",
    "print(top_viewed)\n"
   ]
  },
  {
   "cell_type": "code",
   "execution_count": null,
   "metadata": {
    "execution": {
     "iopub.execute_input": "2024-02-16T23:17:15.413153Z",
     "iopub.status.busy": "2024-02-16T23:17:15.412509Z",
     "iopub.status.idle": "2024-02-16T23:17:15.889865Z",
     "shell.execute_reply": "2024-02-16T23:17:15.887825Z"
    },
    "papermill": {
     "duration": 0.489996,
     "end_time": "2024-02-16T23:17:15.892962",
     "exception": false,
     "start_time": "2024-02-16T23:17:15.402966",
     "status": "completed"
    },
    "tags": []
   },
   "outputs": [],
   "source": [
    "# Plot the monthly hours viewed by category\n",
    "df['month'] = pd.to_datetime(df['week']).dt.strftime('%m-%Y')\n",
    "monthly_category_viewed_hours = df.groupby(['month', 'category'])['weekly_hours_viewed'].sum().reset_index()\n",
    "plt.figure(figsize=(12, 6))\n",
    "for category, group_data in monthly_category_viewed_hours.groupby('category'):\n",
    "    plt.plot(group_data['month'], group_data['weekly_hours_viewed'], marker='o', label=category)\n",
    "plt.title('Monthly Hours Viewed by Category')\n",
    "plt.xlabel('Month')\n",
    "plt.ylabel('Total Monthly Hours Viewed')\n",
    "plt.xticks(rotation=90)\n",
    "plt.legend()\n",
    "plt.grid(True)\n",
    "plt.tight_layout()\n",
    "plt.show()"
   ]
  },
  {
   "cell_type": "code",
   "execution_count": 14,
   "metadata": {
    "execution": {
     "iopub.execute_input": "2024-02-16T23:17:16.154142Z",
     "iopub.status.busy": "2024-02-16T23:17:16.153705Z",
     "iopub.status.idle": "2024-02-16T23:17:16.799207Z",
     "shell.execute_reply": "2024-02-16T23:17:16.796735Z"
    },
    "papermill": {
     "duration": 0.660123,
     "end_time": "2024-02-16T23:17:16.802442",
     "exception": false,
     "start_time": "2024-02-16T23:17:16.142319",
     "status": "completed"
    },
    "tags": []
   },
   "outputs": [
    {
     "data": {
      "image/png": "[encoded data removed]",
      "text/plain": [
       "<Figure size 720x432 with 1 Axes>"
      ]
     },
     "metadata": {
      "needs_background": "light"
     },
     "output_type": "display_data"
    }
   ],
   "source": [
    "# Assuming 'weekly_hours_viewed' as x-axis and 'weekly_views' as y-axis\n",
    "plt.figure(figsize=(10, 6))\n",
    "plt.scatter(df['weekly_hours_viewed'], df['weekly_views'])\n",
    "plt.title('Scatter Plot of Weekly Hours Viewed vs Weekly Views')\n",
    "plt.xlabel('Weekly Hours Viewed')\n",
    "plt.ylabel('Weekly Views')\n",
    "plt.grid(True)\n",
    "plt.show()"
   ]
  },
  {
   "cell_type": "code",
   "execution_count": 15,
   "metadata": {},
   "outputs": [
    {
     "data": {
      "image/png": "[encoded data removed]",
      "text/plain": [
       "<Figure size 720x432 with 2 Axes>"
      ]
     },
     "metadata": {
      "needs_background": "light"
     },
     "output_type": "display_data"
    }
   ],
   "source": [
    "# Assuming 'weekly_hours_viewed' as x-axis and 'weekly_views' as y-axis\n",
    "plt.figure(figsize=(10, 6))\n",
    "heatmap_data = df.pivot_table(index='weekly_hours_viewed', columns='weekly_views', values='weekly_rank')\n",
    "sns.heatmap(heatmap_data, cmap='viridis')\n",
    "plt.title('Heatmap of Weekly Hours Viewed vs Weekly Views')\n",
    "plt.xlabel('Weekly Views')\n",
    "plt.ylabel('Weekly Hours Viewed')\n",
    "plt.show()"
   ]
  }
 ],
 "metadata": {
  "kaggle": {
   "accelerator": "none",
   "dataSources": [
    {
     "datasetId": 4373427,
     "sourceId": 7509254,
     "sourceType": "datasetVersion"
    }
   ],
   "dockerImageVersionId": 30646,
   "isGpuEnabled": false,
   "isInternetEnabled": true,
   "language": "python",
   "sourceType": "notebook"
  },
  "kernelspec": {
   "display_name": "Python 3",
   "language": "python",
   "name": "python3"
  },
  "papermill": {
   "default_parameters": {},
   "duration": 9.393671,
   "end_time": "2024-02-16T23:17:17.569957",
   "environment_variables": {},
   "exception": null,
   "input_path": "__notebook__.ipynb",
   "output_path": "__notebook__.ipynb",
   "parameters": {},
   "start_time": "2024-02-16T23:17:08.176286",
   "version": "2.5.0"
  }
 },
 "nbformat": 4,
 "nbformat_minor": 5
}
